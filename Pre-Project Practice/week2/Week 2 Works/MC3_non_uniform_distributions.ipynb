{
 "cells": [
  {
   "cell_type": "markdown",
   "id": "8b8c14a3",
   "metadata": {},
   "source": [
    "<h1>\n",
    "Week 2\n",
    "</h1>\n",
    "<h2>\n",
    "Task 3: Non-uniform distributions\n",
    "</h2>\n",
    "<h3>\n",
    "The aim in this notebook is start using non-flat distributions for more complicated calculations.\n",
    "</h3>"
   ]
  },
  {
   "cell_type": "code",
   "execution_count": 2,
   "id": "b2853a5f",
   "metadata": {
    "ExecuteTime": {
     "end_time": "2025-02-07T17:24:47.527740Z",
     "start_time": "2025-02-07T17:24:47.488988Z"
    }
   },
   "outputs": [],
   "source": [
    "# Some useful imports\n",
    "import numpy as np\n",
    "import numpy.random as rand\n",
    "import matplotlib.pyplot as plt \n",
    "plt.rcParams['text.usetex'] = True"
   ]
  },
  {
   "cell_type": "markdown",
   "id": "5db3ce80",
   "metadata": {},
   "source": [
    "<p style=\"font-size:20px\">\n",
    "numpy.random allows us to use much less boring probability distributions. Let's use <a href=\"https://numpy.org/doc/stable/reference/random/generated/numpy.random.normal.html\">numpy.random.normal</a> to study the Gaussian distribution used to quantify errors.\n",
    "</p>"
   ]
  },
  {
   "cell_type": "code",
   "execution_count": 3,
   "id": "0d950449",
   "metadata": {
    "ExecuteTime": {
     "end_time": "2025-02-07T17:25:01.812358Z",
     "start_time": "2025-02-07T17:24:58.979897Z"
    }
   },
   "outputs": [
    {
     "data": {
      "text/plain": "<Figure size 640x480 with 1 Axes>",
      "image/png": "[encoded data removed]"
     },
     "metadata": {},
     "output_type": "display_data"
    },
    {
     "data": {
      "text/plain": "<Figure size 640x480 with 0 Axes>"
     },
     "metadata": {},
     "output_type": "display_data"
    }
   ],
   "source": [
    "# The parameters to be used\n",
    "mean = 20\n",
    "std = 5\n",
    "\n",
    "# Generate the sample\n",
    "sample = rand.normal(loc=mean, scale=std, size=1_000_000)\n",
    "\n",
    "# Let's plot this distribution\n",
    "fig, ax = plt.subplots()\n",
    "ax.set(xlabel=\"Value\", ylabel=\"Counts\")\n",
    "ax.hist(sample, bins=100)\n",
    "plt.show()\n",
    "plt.clf()"
   ]
  },
  {
   "cell_type": "code",
   "execution_count": 12,
   "outputs": [
    {
     "name": "stdout",
     "output_type": "stream",
     "text": [
      "100.01393295556355 4.996728002036475\n"
     ]
    }
   ],
   "source": [
    "# Perform the \"integral\"\n",
    "expectation = (10-0)*np.sum(sample)/len(sample)\n",
    "\n",
    "exp = np.sum(sample)/len(sample)\n",
    "exp2 = np.sum(sample**2)/len(sample)\n",
    "\n",
    "# Compute standard deviation of f\n",
    "sigma_f = np.sqrt(exp2 - exp**2)\n",
    "\n",
    "print(expectation,sigma_f)"
   ],
   "metadata": {
    "collapsed": false,
    "ExecuteTime": {
     "end_time": "2025-02-07T17:44:27.927497Z",
     "start_time": "2025-02-07T17:44:27.819427Z"
    }
   }
  },
  {
   "cell_type": "markdown",
   "id": "b59b6e85",
   "metadata": {},
   "source": [
    "<p style=\"font-size:20px;color:blue\">\n",
    "$\\cdot$ Use MC integration to estimate the mean and standard deviation of the sample (pretend you don't know the values from the above cell!).\n",
    "<br><br>\n",
    "$\\cdot$ Plot them below using the following code snippet (replace with variable names you prefer)\n",
    "</p>"
   ]
  },
  {
   "cell_type": "code",
   "execution_count": 17,
   "id": "b290328c",
   "metadata": {
    "ExecuteTime": {
     "end_time": "2025-02-07T17:49:32.065186Z",
     "start_time": "2025-02-07T17:49:31.791778Z"
    }
   },
   "outputs": [
    {
     "data": {
      "text/plain": "<Figure size 640x480 with 1 Axes>",
      "image/png": "[encoded data removed]"
     },
     "metadata": {},
     "output_type": "display_data"
    },
    {
     "data": {
      "text/plain": "<Figure size 640x480 with 0 Axes>"
     },
     "metadata": {},
     "output_type": "display_data"
    }
   ],
   "source": [
    "# Code snippet for visualising values on plots:\n",
    "\n",
    "est_mean,est_std = 20.0278659111271, 4.996728002036475\n",
    "fig, ax = plt.subplots()\n",
    "ax.axvline(est_mean, linestyle=\"--\", color=\"black\")\n",
    "\n",
    "ax.axvline(est_mean+1*est_std, linestyle=\"--\", color=\"green\")\n",
    "ax.axvline(est_mean-1*est_std, linestyle=\"--\", color=\"green\")\n",
    "\n",
    "ax.axvline(est_mean+2*est_std, linestyle=\"--\", color=\"yellow\")\n",
    "ax.axvline(est_mean-2*est_std, linestyle=\"--\", color=\"yellow\")\n",
    "\n",
    "ax.axvline(est_mean+3*est_std, linestyle=\"--\", color=\"red\")\n",
    "ax.axvline(est_mean-3*est_std, linestyle=\"--\", color=\"red\")\n",
    "\n",
    "plt.show()\n",
    "plt.clf()"
   ]
  },
  {
   "cell_type": "markdown",
   "id": "813fc141",
   "metadata": {},
   "source": [
    "<p style=\"font-size:20px;color:blue\">\n",
    "$\\cdot$ Once confident your estimate of the standard deviation is sensible (does it match what you plugged in?) use that to estimate the probability of a point lying between the $\\pm 1\\sigma$ bounds. Does the value match your expectation? What about $\\pm 2\\sigma$ and $\\pm 3\\sigma$.\n",
    "<br><br>\n",
    "Hint: Write down the integral you want to carry out. Remember that $P(x)$ is achieved through the sampling. What is left of the integrand?\n",
    "<br><br>\n",
    "Hint: You might want to use the rejection methods from the previous task to enforce integrand limits.\n",
    "</p>"
   ]
  },
  {
   "cell_type": "code",
   "execution_count": null,
   "id": "3a24fab0",
   "metadata": {},
   "outputs": [],
   "source": []
  }
 ],
 "metadata": {
  "kernelspec": {
   "display_name": "Python 3 (ipykernel)",
   "language": "python",
   "name": "python3"
  },
  "language_info": {
   "codemirror_mode": {
    "name": "ipython",
    "version": 3
   },
   "file_extension": ".py",
   "mimetype": "text/x-python",
   "name": "python",
   "nbconvert_exporter": "python",
   "pygments_lexer": "ipython3",
   "version": "3.8.10"
  }
 },
 "nbformat": 4,
 "nbformat_minor": 5
}
