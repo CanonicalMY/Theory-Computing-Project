{
 "cells": [
  {
   "cell_type": "markdown",
   "metadata": {},
   "source": [
    "<h1>\n",
    "Week 2\n",
    "</h1>\n",
    "<h2>\n",
    "Task 1: Uniform distributions\n",
    "</h2>\n",
    "<h3>\n",
    "The aim in this notebook is to build confidence generating random numbers using numpy, and visualising distributions using matplotlib.\n",
    "</h3>"
   ]
  },
  {
   "cell_type": "code",
   "execution_count": 6,
   "metadata": {
    "ExecuteTime": {
     "end_time": "2025-02-07T14:31:36.932175Z",
     "start_time": "2025-02-07T14:31:36.915409Z"
    }
   },
   "outputs": [],
   "source": [
    "# A few useful import statements\n",
    "import numpy as np\n",
    "import numpy.random as rand\n",
    "import matplotlib.pyplot as plt\n",
    "plt.rcParams['text.usetex'] = True\n",
    "import time"
   ]
  },
  {
   "cell_type": "markdown",
   "metadata": {},
   "source": [
    "<p style=\"font-size:20px\">\n",
    "numpy.random.uniform() allows us to generate a random number between 0 and 1\n",
    "</p>"
   ]
  },
  {
   "cell_type": "code",
   "execution_count": 5,
   "metadata": {
    "ExecuteTime": {
     "end_time": "2025-02-07T14:31:32.948603Z",
     "start_time": "2025-02-07T14:31:32.812234Z"
    }
   },
   "outputs": [
    {
     "name": "stdout",
     "output_type": "stream",
     "text": [
      "0.7509\n",
      "0.8894\n",
      "0.8547\n",
      "0.3657\n",
      "0.2385\n",
      "0.0827\n",
      "0.6758\n",
      "0.2852\n",
      "0.1023\n",
      "0.9708\n"
     ]
    }
   ],
   "source": [
    "for _ in range(10):\n",
    "    number = rand.uniform()\n",
    "    # Use a formatted fstring with 4 decimal places\n",
    "    print(f\"{number:.4f}\")"
   ]
  },
  {
   "cell_type": "markdown",
   "metadata": {},
   "source": [
    "<p style=\"font-size:20px\">\n",
    "Looking at the <a href=\"https://numpy.org/doc/stable/reference/random/generated/numpy.random.uniform.html\">documentation</a> we see that we have 3 optional arguments: low, high, size\n",
    "</p>"
   ]
  },
  {
   "cell_type": "code",
   "execution_count": 12,
   "metadata": {
    "ExecuteTime": {
     "end_time": "2025-02-07T16:24:17.911240Z",
     "start_time": "2025-02-07T16:24:17.621332Z"
    }
   },
   "outputs": [
    {
     "name": "stdout",
     "output_type": "stream",
     "text": [
      "Shape of numbers array is (10000,)\n",
      "[6.56503213 1.54097168 3.51582958 4.87467804 2.72530165 3.99909206\n",
      " 2.96971345 2.95253349 6.68542095 1.30889567]\n"
     ]
    }
   ],
   "source": [
    "my_numbers = rand.uniform(low=-5.5, high=7, size=1_0000)\n",
    "print(f\"Shape of numbers array is {my_numbers.shape}\")\n",
    "print(my_numbers[:10])"
   ]
  },
  {
   "cell_type": "markdown",
   "metadata": {},
   "source": [
    "<p style=\"font-size:20px\">\n",
    "Let's visualise the distribution using <a href=\"https://matplotlib.org/stable/api/_as_gen/matplotlib.pyplot.hist.html\">matplotlib.pyplot.hist</a>\n",
    "</p>"
   ]
  },
  {
   "cell_type": "code",
   "execution_count": 13,
   "metadata": {
    "ExecuteTime": {
     "end_time": "2025-02-07T16:24:22.215565Z",
     "start_time": "2025-02-07T16:24:19.972855Z"
    }
   },
   "outputs": [
    {
     "data": {
      "text/plain": "<Figure size 640x480 with 1 Axes>",
      "image/png": "[encoded data removed]"
     },
     "metadata": {},
     "output_type": "display_data"
    },
    {
     "data": {
      "text/plain": "<Figure size 640x480 with 0 Axes>"
     },
     "metadata": {},
     "output_type": "display_data"
    }
   ],
   "source": [
    "# Prepare figure\n",
    "fig, ax = plt.subplots()\n",
    "ax.set(xlabel=\"Value\", ylabel=\"Counts\")\n",
    "\n",
    "# Plot data\n",
    "ax.hist(my_numbers)\n",
    "\n",
    "# Plot and close figure\n",
    "plt.show()\n",
    "plt.clf()"
   ]
  },
  {
   "cell_type": "markdown",
   "metadata": {},
   "source": [
    "<p style=\"font-size:20px;color:Blue;\">\n",
    "$\\cdot$ Change the number of points in the random sample and inspect the fluctuation in the histogram. Can you explain what you see?\n",
    "</p>"
   ]
  },
  {
   "cell_type": "markdown",
   "metadata": {},
   "source": [
    "<hr style=\"height:1px;width:75%\">"
   ]
  },
  {
   "cell_type": "markdown",
   "metadata": {},
   "source": [
    "<p style=\"font-size:20px\">\n",
    "Let's do our first MC integral. As explained in the notes we can estimate an integral using random variables:\n",
    "    $$ \\int_{x_1}^{x_2} f(x){\\rm d}x \\approx (x_2-x_1)\\frac{1}{N}\\sum_{i=1}^{N}f(x_i). $$\n",
    "<br>\n",
    "Let's first integrate a simple $y=x$ line between $0$ and $10$. This is given by\n",
    "    $$ I = \\int_0^{10} x {\\rm d}x = \\bigg[\\frac{x^2}{2}\\bigg]_0^{10}= \\frac{10^2}{2} = 50 $$\n",
    "</p>"
   ]
  },
  {
   "cell_type": "code",
   "execution_count": 32,
   "metadata": {
    "ExecuteTime": {
     "end_time": "2025-02-07T16:42:32.859186Z",
     "start_time": "2025-02-07T16:42:32.835150Z"
    }
   },
   "outputs": [
    {
     "name": "stdout",
     "output_type": "stream",
     "text": [
      "50.1803\n"
     ]
    }
   ],
   "source": [
    "# Get x samples from flat probability\n",
    "sample = rand.uniform(low=0, high=10, size=100_000)\n",
    "\n",
    "# Perform the \"integral\"\n",
    "expectation = (10-0)*np.sum(sample)/len(sample)\n",
    "\n",
    "# Show fstring formatted result\n",
    "print(f\"{expectation:.4f}\")"
   ]
  },
  {
   "cell_type": "markdown",
   "metadata": {},
   "source": [
    "<p style=\"font-size:20px\">\n",
    "The method gives the correct result! We swapped an integral for random numbers.\n",
    "</p>"
   ]
  },
  {
   "cell_type": "markdown",
   "source": [
    "<p style=\"font-size:20px;color:blue\">\n",
    "$\\cdot$ Change the number of points and inspect the accuracy of the expectation value.\n",
    "<br><br>\n",
    "$\\cdot$ Use the same sample to estimate the standard deviation of the random sample. Remember the definition\n",
    "    $$ \\sigma_f^2 = \\langle f(x)\\rangle^2 - \\langle f(x)^2 \\rangle $$\n",
    "I have started off the code for you below, by calculating the expectation values of $f$ and $f^2$.\n",
    "<br>\n",
    "$\\cdot$ Use the above result to find the error on the integral. Remember the definition\n",
    "    $$ \\sigma_{\\rm MC} = \\frac{V}{\\sqrt{N}}\\sigma_f $$\n",
    "<br>\n",
    "Notice how the value of $\\sigma_f$ does not change significantly if you increase $N$ (just getting a bit more accurate), while $\\sigma_{\\rm MC}$ scales as $1/\\sqrt{N}$.\n",
    "<br>\n",
    "$\\cdot$ Check that if you rerun your Monte Carlo integral cell a few times, the variation in its result is consistent with the value of $\\sigma_{\\rm MC}$.\n",
    "</p>"
   ],
   "metadata": {
    "collapsed": false
   }
  },
  {
   "cell_type": "code",
   "execution_count": 33,
   "outputs": [
    {
     "name": "stdout",
     "output_type": "stream",
     "text": [
      "{'Integral Estimate': 50.18029577538921, 'Standard Deviation of f': 2.8800214624531946, 'Monte Carlo Error': 0.09107427531521202}\n"
     ]
    }
   ],
   "source": [
    "V = 10\n",
    "N = 100_000\n",
    "exp = np.sum(sample)/len(sample)\n",
    "exp2 = np.sum(sample**2)/len(sample)\n",
    "\n",
    "# Compute standard deviation of f\n",
    "sigma_f = np.sqrt(exp2 - exp**2)\n",
    "\n",
    "# Compute Monte Carlo error\n",
    "sigma_MC = (V / np.sqrt(N)) * sigma_f\n",
    "\n",
    "# Compute the integral estimate\n",
    "expectation = V * exp\n",
    "\n",
    "# Display results\n",
    "results = {\n",
    "    \"Integral Estimate\": expectation,\n",
    "    \"Standard Deviation of f\": sigma_f,\n",
    "    \"Monte Carlo Error\": sigma_MC,\n",
    "}\n",
    "print(results)"
   ],
   "metadata": {
    "collapsed": false,
    "ExecuteTime": {
     "end_time": "2025-02-07T16:42:35.868423Z",
     "start_time": "2025-02-07T16:42:35.853015Z"
    }
   }
  },
  {
   "cell_type": "markdown",
   "metadata": {},
   "source": [
    "<hr style=\"height:1px;width:75%\">"
   ]
  },
  {
   "cell_type": "markdown",
   "metadata": {},
   "source": [
    "<p style=\"font-size:20px;color:blue\">\n",
    "$\\cdot$ Bonus question: Test the speed of the numpy.random.uniform function. How much faster is it to use the size argument compared to repeatedly calling the function (e.g. appending values to an array in a for loop)?\n",
    "</p>"
   ]
  },
  {
   "cell_type": "code",
   "execution_count": 34,
   "metadata": {
    "ExecuteTime": {
     "end_time": "2025-02-07T16:46:48.538997Z",
     "start_time": "2025-02-07T16:46:47.658574Z"
    }
   },
   "outputs": [
    {
     "name": "stdout",
     "output_type": "stream",
     "text": [
      "{'Time using size argument (s)': 0.00849294662475586, 'Time using for loop (s)': 0.8912241458892822, 'How much faster': 104.93697714895289}\n"
     ]
    }
   ],
   "source": [
    "import time\n",
    "\n",
    "# Test speed using numpy's size argument\n",
    "N = 1_000_000  # Number of samples\n",
    "\n",
    "start_time = time.time()\n",
    "sample_size_arg = np.random.uniform(low=0, high=10, size=N)\n",
    "time_size_arg = time.time() - start_time\n",
    "\n",
    "# Test speed using a for loop (appending values)\n",
    "start_time = time.time()\n",
    "sample_loop = []\n",
    "for _ in range(N):\n",
    "    sample_loop.append(np.random.uniform(low=0, high=10))\n",
    "time_loop = time.time() - start_time\n",
    "\n",
    "# Compute speedup factor\n",
    "speedup_factor = time_loop / time_size_arg\n",
    "\n",
    "# Display results\n",
    "speed_results = {\n",
    "    \"Time using size argument (s)\": time_size_arg,\n",
    "    \"Time using for loop (s)\": time_loop,\n",
    "    \"How much faster\": speedup_factor,\n",
    "}\n",
    "print(speed_results)"
   ]
  }
 ],
 "metadata": {
  "kernelspec": {
   "display_name": "Python 3",
   "language": "python",
   "name": "python3"
  },
  "language_info": {
   "codemirror_mode": {
    "name": "ipython",
    "version": 3
   },
   "file_extension": ".py",
   "mimetype": "text/x-python",
   "name": "python",
   "nbconvert_exporter": "python",
   "pygments_lexer": "ipython3",
   "version": "3.8.6"
  }
 },
 "nbformat": 4,
 "nbformat_minor": 5
}
