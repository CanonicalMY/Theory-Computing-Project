{
 "cells": [
  {
   "cell_type": "markdown",
   "metadata": {},
   "source": [
    "<h1>\n",
    "Week 2\n",
    "</h1>\n",
    "<h2>\n",
    "Task 4: Metropolis Algorithm\n",
    "</h2>\n",
    "<h3>\n",
    "The goal in this notebook is to see a new method of sampling a probability distribution by walking through a chain of points. Specifically we will discuss the Metropolis algorithm\n",
    "</h3>"
   ]
  },
  {
   "cell_type": "code",
   "execution_count": 1,
   "metadata": {},
   "outputs": [],
   "source": [
    "# Some useful imports\n",
    "import numpy as np\n",
    "import numpy.random as rand\n",
    "import matplotlib.pyplot as plt \n",
    "plt.rcParams['text.usetex'] = True"
   ]
  },
  {
   "cell_type": "markdown",
   "metadata": {},
   "source": [
    "<p style=\"font-size:20px\">\n",
    "In this notebook we will be solving a problem from statistical mechanics, and introducing a sampling strategy known as the Metropolis algorithm.\n",
    "<br><br>\n",
    "We are investigating a particle moving in a 1D potential $V(x)$ connected to a heat bath at temperature $T$. If not for the heat bath the particle would simply sit at the minimum of potential (minimum kinetic and potential energy). A non-zero temperature however allows for fluctuations up the walls of the potential. The probability of finding the particle at a position $x$ is given by the Boltzmann factor,\n",
    "    $$\n",
    "    p(x)\\propto\\exp\\bigg(\\frac{-V(x)}{K_B T}\\bigg) \\equiv \\exp(-\\beta V(x))\n",
    "    $$\n",
    "</p>"
   ]
  },
  {
   "cell_type": "markdown",
   "metadata": {},
   "source": [
    "<p style=\"color:Blue;font-size:20px;\">\n",
    "$\\cdot$ Using the potential $V(x)=x^2/2$ produce a figure showing both the potential and Boltzmann factor in the same figure. We want to be able to make plots with various potential functions, so the name of the potential function is one of the inputs to the boltzmann function.\n",
    "<br><br>\n",
    "$\\cdot$ Show the plot for various values of $\\beta$. What do you expect to happen to the physical system at low temperature (high $\\beta$) and high temperature (low $\\beta$)\n",
    "</p>"
   ]
  },
  {
   "cell_type": "code",
   "execution_count": 2,
   "metadata": {},
   "outputs": [],
   "source": [
    "def potential(x):\n",
    "    #YOUR CODE HERE\n",
    "\n",
    "def boltzmann(x, beta, pot_func):\n",
    "    #YOUR CODE HERE"
   ]
  },
  {
   "cell_type": "markdown",
   "metadata": {},
   "source": [
    "<hr style=\"height:1px;width:75%\">"
   ]
  },
  {
   "cell_type": "markdown",
   "metadata": {},
   "source": [
    "<p style=\"font-size:20px\">\n",
    "It isn't always possible to simply choose random numbers to sample the probability distribution $p(x)$.\n",
    "<br><br>\n",
    "In this example we will use the Metropolis algortithm -- a method for choosing a new value of $x$ based on the current position. This creates a <a href=\"https://en.wikipedia.org/wiki/Markov_chain\">chain</a> of $x$ values that samples the probability distribution.\n",
    "</p>"
   ]
  },
  {
   "cell_type": "markdown",
   "metadata": {},
   "source": [
    "<p style=\"font-size:20px\">\n",
    "Metropolis algrothim:\n",
    "<br><br>\n",
    "1) Start by picking a random point $x_0$ from a <i>sensible</i> range.\n",
    "<br>\n",
    "2) Record your position in your data structure of choice.\n",
    "<br>\n",
    "3) Propose a step by choosing a $\\delta x$, again from a <i>sensible</i> distribution.\n",
    "<br>\n",
    "4) Evaluate the ratio of probabilities $\\alpha=P(x+\\delta x)/P(x)$. If this ratio is favourable ($\\alpha\\geq 1$) then take the step. If it is not ($\\alpha<1$) then take the step with probability $\\alpha$.\n",
    "<br>\n",
    "5) Go back to step 2 till enough samples have been taken.\n",
    "<br><br>\n",
    "We have implemented this algorithm for you. Make sure you can follow what the code is doing.\n",
    "</p>"
   ]
  },
  {
   "cell_type": "code",
   "execution_count": 3,
   "metadata": {},
   "outputs": [],
   "source": [
    "# This function will provide a series of x values using the metropolis and a provided probability function\n",
    "def get_sample(prob_func, size):\n",
    "    max_step=0.5\n",
    "    x_0 = rand.uniform(-max_step, max_step)\n",
    "    positions = np.array([x_0,])\n",
    "    \n",
    "    for _ in range(size):\n",
    "        step = rand.uniform(-max_step, max_step)\n",
    "        alpha = prob_func(positions[-1]+step)/prob_func(positions[-1])\n",
    "\n",
    "        if alpha >= 1:\n",
    "            positions = np.append(positions, positions[-1]+step)\n",
    "        else:\n",
    "            take_step = rand.choice([True, False], p=[alpha, 1-alpha])\n",
    "            if (take_step):\n",
    "                positions = np.append(positions, positions[-1]+step)\n",
    "            else:\n",
    "                positions = np.append(positions, positions[-1])\n",
    "    \n",
    "    return positions"
   ]
  },
  {
   "cell_type": "markdown",
   "metadata": {},
   "source": [
    "<p style=\"color:Blue;font-size:20px;\">\n",
    "$\\cdot$ Use the function provided above with your probability function to achieve a sample of x values. Visualise this using the code snippets below.\n",
    "</p>\n",
    "<p style=\"color:Black;font-size:20px;\">\n",
    "Remember that the results are random - it is worth running the cell a few times to get a feel for what it is doing.\n",
    "</p>"
   ]
  },
  {
   "cell_type": "code",
   "execution_count": 5,
   "metadata": {},
   "outputs": [
    {
     "data": {
      "image/png": "[encoded data removed]",
      "text/plain": [
       "<Figure size 432x288 with 1 Axes>"
      ]
     },
     "metadata": {
      "needs_background": "light"
     },
     "output_type": "display_data"
    },
    {
     "data": {
      "text/plain": [
       "<Figure size 432x288 with 0 Axes>"
      ]
     },
     "metadata": {},
     "output_type": "display_data"
    }
   ],
   "source": [
    "# This code snippet will visualise the trajectory through the potential.\n",
    "# Plug in your function and give it a go\n",
    "x_arr = np.linspace(-3, 3, 100)\n",
    "beta = 2.0\n",
    "\n",
    "fig, ax = plt.subplots()\n",
    "\n",
    "trajectory = get_sample(YOUR_PROBABILITY, 25)\n",
    "\n",
    "ax.set(xlabel=\"x\")\n",
    "\n",
    "ax.plot(x_arr, YOUR_POTENTIAL(x_arr), label=\"V(x)\")\n",
    "ax.plot(x_arr, YOUR_PROBABILITY(x_arr), label=\"Boltzmann\")\n",
    "\n",
    "ax.plot(trajectory, YOUR_PROBABILITY(trajectory), linewidth=0.75, color=\"black\")\n",
    "ax.scatter(trajectory, YOUR_PROBABILITY(trajectory), color=\"red\", s=10)\n",
    "\n",
    "ax.legend()\n",
    "\n",
    "plt.show()\n",
    "plt.clf()"
   ]
  },
  {
   "cell_type": "code",
   "execution_count": 6,
   "metadata": {},
   "outputs": [
    {
     "data": {
      "image/png": "[encoded data removed]",
      "text/plain": [
       "<Figure size 432x288 with 1 Axes>"
      ]
     },
     "metadata": {
      "needs_background": "light"
     },
     "output_type": "display_data"
    },
    {
     "data": {
      "text/plain": [
       "<Figure size 432x288 with 0 Axes>"
      ]
     },
     "metadata": {},
     "output_type": "display_data"
    }
   ],
   "source": [
    "fig, ax = plt.subplots()\n",
    "\n",
    "sample = get_sample(YOUR_PROBABILITY, 100_000)\n",
    "\n",
    "ax.hist(sample, bins=60, range=(-3,3))\n",
    "ax.plot(x_arr, len(sample)*YOUR_PROBABILITY(x_arr)/np.sqrt(2*np.pi/beta)/10)\n",
    "\n",
    "plt.show()\n",
    "plt.clf()"
   ]
  },
  {
   "cell_type": "markdown",
   "metadata": {},
   "source": [
    "<hr style=\"height:1px;width:75%\">"
   ]
  },
  {
   "cell_type": "markdown",
   "metadata": {},
   "source": [
    "<p style=\"color:Blue;font-size:20px;\">\n",
    "$\\cdot$ Use these trajectories to give expectation values $\\langle x\\rangle$ and $\\langle V\\rangle$. You could also calculate $\\langle x^2\\rangle$ and $\\langle V^2\\rangle$ and use these to calculate the uncertainties on $\\langle x\\rangle$ and $\\langle V\\rangle$. Give these for a range of $\\beta$ values and discuss the results.\n",
    "<br>\n",
    "For our simple quadratic potential, it is possible to calculate both $\\langle x\\rangle$ and $\\langle V\\rangle$ analytically, but you might be able to anticipate their values (hints: 1. the potential is symmetric, 2. the equipartition theorem applies).\n",
    "<br><br>\n",
    "$\\cdot$ Modify the potential to $V(x)=x^2/2 + \\exp(-8x^2)$. Plot $V(x)$ and $p(x)$. Discuss what changes you expect in the results and test your intuition with MC integration.\n",
    "</p>"
   ]
  },
  {
   "cell_type": "code",
   "execution_count": null,
   "metadata": {},
   "outputs": [],
   "source": []
  }
 ],
 "metadata": {
  "kernelspec": {
   "display_name": "Python 3",
   "language": "python",
   "name": "python3"
  },
  "language_info": {
   "codemirror_mode": {
    "name": "ipython",
    "version": 3
   },
   "file_extension": ".py",
   "mimetype": "text/x-python",
   "name": "python",
   "nbconvert_exporter": "python",
   "pygments_lexer": "ipython3",
   "version": "3.8.6"
  }
 },
 "nbformat": 4,
 "nbformat_minor": 5
}
