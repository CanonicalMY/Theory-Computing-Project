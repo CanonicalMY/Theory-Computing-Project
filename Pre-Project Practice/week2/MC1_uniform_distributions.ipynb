{
 "cells": [
  {
   "cell_type": "markdown",
   "metadata": {},
   "source": [
    "<h1>\n",
    "Week 2\n",
    "</h1>\n",
    "<h2>\n",
    "Task 1: Uniform distributions\n",
    "</h2>\n",
    "<h3>\n",
    "The aim in this notebook is to build confidence generating random numbers using numpy, and visualising distributions using matplotlib.\n",
    "</h3>"
   ]
  },
  {
   "cell_type": "code",
   "execution_count": 1,
   "metadata": {},
   "outputs": [],
   "source": [
    "# A few useful import statements\n",
    "import numpy as np\n",
    "import numpy.random as rand\n",
    "import matplotlib.pyplot as plt\n",
    "plt.rcParams['text.usetex'] = True\n",
    "import time"
   ]
  },
  {
   "cell_type": "markdown",
   "metadata": {},
   "source": [
    "<p style=\"font-size:20px\">\n",
    "numpy.random.uniform() allows us to generate a random number between 0 and 1\n",
    "</p>"
   ]
  },
  {
   "cell_type": "code",
   "execution_count": 2,
   "metadata": {},
   "outputs": [
    {
     "name": "stdout",
     "output_type": "stream",
     "text": [
      "0.8709\n",
      "0.7057\n",
      "0.6553\n",
      "0.4432\n",
      "0.8921\n",
      "0.5178\n",
      "0.8528\n",
      "0.5645\n",
      "0.3616\n",
      "0.7247\n"
     ]
    }
   ],
   "source": [
    "for _ in range(10):\n",
    "    number = rand.uniform()\n",
    "    # Use a formatted fstring with 4 decimal places\n",
    "    print(f\"{number:.4f}\")"
   ]
  },
  {
   "cell_type": "markdown",
   "metadata": {},
   "source": [
    "<p style=\"font-size:20px\">\n",
    "Looking at the <a href=\"https://numpy.org/doc/stable/reference/random/generated/numpy.random.uniform.html\">documentation</a> we see that we have 3 optional arguments: low, high, size\n",
    "</p>"
   ]
  },
  {
   "cell_type": "code",
   "execution_count": 3,
   "metadata": {},
   "outputs": [
    {
     "name": "stdout",
     "output_type": "stream",
     "text": [
      "Shape of numbers array is (1000,)\n",
      "[-0.9197682  -2.12490081  3.97277173  3.11727044  2.5150358  -1.29225628\n",
      " -2.75144046  1.12606243  5.41336464 -1.67434549]\n"
     ]
    }
   ],
   "source": [
    "my_numbers = rand.uniform(low=-5.5, high=7, size=1_000)\n",
    "print(f\"Shape of numbers array is {my_numbers.shape}\")\n",
    "print(my_numbers[:10])"
   ]
  },
  {
   "cell_type": "markdown",
   "metadata": {},
   "source": [
    "<p style=\"font-size:20px\">\n",
    "Let's visualise the distribution using <a href=\"https://matplotlib.org/stable/api/_as_gen/matplotlib.pyplot.hist.html\">matplotlib.pyplot.hist</a>\n",
    "</p>"
   ]
  },
  {
   "cell_type": "code",
   "execution_count": 4,
   "metadata": {},
   "outputs": [
    {
     "data": {
      "image/png": "[encoded data removed]",
      "text/plain": [
       "<Figure size 432x288 with 1 Axes>"
      ]
     },
     "metadata": {
      "needs_background": "light"
     },
     "output_type": "display_data"
    },
    {
     "data": {
      "text/plain": [
       "<Figure size 432x288 with 0 Axes>"
      ]
     },
     "metadata": {},
     "output_type": "display_data"
    }
   ],
   "source": [
    "# Prepare figure\n",
    "fig, ax = plt.subplots()\n",
    "ax.set(xlabel=\"Value\", ylabel=\"Counts\")\n",
    "\n",
    "# Plot data\n",
    "ax.hist(my_numbers)\n",
    "\n",
    "# Plot and close figure\n",
    "plt.show()\n",
    "plt.clf()"
   ]
  },
  {
   "cell_type": "markdown",
   "metadata": {},
   "source": [
    "<p style=\"font-size:20px;color:Blue;\">\n",
    "$\\cdot$ Change the number of points in the random sample and inspect the fluctuation in the histogram. Can you explain what you see?\n",
    "</p>"
   ]
  },
  {
   "cell_type": "markdown",
   "metadata": {},
   "source": [
    "<hr style=\"height:1px;width:75%\">"
   ]
  },
  {
   "cell_type": "markdown",
   "metadata": {},
   "source": [
    "<p style=\"font-size:20px\">\n",
    "Let's do our first MC integral. As explained in the notes we can estimate an integral using random variables:\n",
    "    $$ \\int_{x_1}^{x_2} f(x){\\rm d}x \\approx (x_2-x_1)\\frac{1}{N}\\sum_{i=1}^{N}f(x_i). $$\n",
    "<br>\n",
    "Let's first integrate a simple $y=x$ line between $0$ and $10$. This is given by\n",
    "    $$ I = \\int_0^{10} x {\\rm d}x = \\bigg[\\frac{x^2}{2}\\bigg]_0^{10}= \\frac{10^2}{2} = 50 $$\n",
    "</p>"
   ]
  },
  {
   "cell_type": "code",
   "execution_count": 5,
   "metadata": {},
   "outputs": [
    {
     "name": "stdout",
     "output_type": "stream",
     "text": [
      "50.0687\n"
     ]
    }
   ],
   "source": [
    "# Get x samples from flat probability\n",
    "sample = rand.uniform(low=0, high=10, size=100_000)\n",
    "\n",
    "# Perform the \"integral\"\n",
    "expectation = (10-0)*np.sum(sample)/len(sample)\n",
    "\n",
    "# Show fstring formatted result\n",
    "print(f\"{expectation:.4f}\")"
   ]
  },
  {
   "cell_type": "markdown",
   "metadata": {},
   "source": [
    "<p style=\"font-size:20px\">\n",
    "The method gives the correct result! We swapped an integral for random numbers.\n",
    "</p>"
   ]
  },
  {
   "cell_type": "markdown",
   "metadata": {},
   "source": [
    "<p style=\"font-size:20px;color:blue\">\n",
    "$\\cdot$ Change the number of points and inspect the accuracy of the expectation value.\n",
    "<br><br>\n",
    "$\\cdot$ Use the same sample to estimate the standard deviation of the random sample. Remember the definition\n",
    "    $$ \\sigma_f^2 = \\langle f(x)\\rangle^2 - \\langle f(x)^2 \\rangle $$\n",
    "I have started off the code for you below, by calculating the expectation values of $f$ and $f^2$.\n",
    "<br>\n",
    "$\\cdot$ Use the above result to find the error on the integral. Remember the definition\n",
    "    $$ \\sigma_{\\rm MC} = \\frac{V}{\\sqrt{N}}\\sigma_f $$\n",
    "<br>\n",
    "Notice how the value of $\\sigma_f$ does not change significantly if you increase $N$ (just getting a bit more accurate), while $\\sigma_{\\rm MC}$ scales as $1/\\sqrt{N}$.\n",
    "<br>\n",
    "$\\cdot$ Check that if you rerun your Monte Carlo integral cell a few times, the variation in its result is consistent with the value of $\\sigma_{\\rm MC}$.\n",
    "</p>"
   ]
  },
  {
   "cell_type": "code",
   "execution_count": 6,
   "metadata": {},
   "outputs": [],
   "source": [
    "exp = np.sum(sample)/len(sample)\n",
    "exp2 = np.sum(sample**2)/len(sample)"
   ]
  },
  {
   "cell_type": "markdown",
   "metadata": {},
   "source": [
    "<hr style=\"height:1px;width:75%\">"
   ]
  },
  {
   "cell_type": "markdown",
   "metadata": {},
   "source": [
    "<p style=\"font-size:20px;color:blue\">\n",
    "$\\cdot$ Bonus question: Test the speed of the numpy.random.uniform function. How much faster is it to use the size argument compared to repeatedly calling the function (e.g. appending values to an array in a for loop)?\n",
    "</p>"
   ]
  },
  {
   "cell_type": "code",
   "execution_count": null,
   "metadata": {},
   "outputs": [],
   "source": []
  }
 ],
 "metadata": {
  "kernelspec": {
   "display_name": "Python 3",
   "language": "python",
   "name": "python3"
  },
  "language_info": {
   "codemirror_mode": {
    "name": "ipython",
    "version": 3
   },
   "file_extension": ".py",
   "mimetype": "text/x-python",
   "name": "python",
   "nbconvert_exporter": "python",
   "pygments_lexer": "ipython3",
   "version": "3.8.6"
  }
 },
 "nbformat": 4,
 "nbformat_minor": 5
}
