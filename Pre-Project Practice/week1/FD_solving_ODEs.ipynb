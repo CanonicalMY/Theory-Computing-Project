{
 "cells": [
  {
   "cell_type": "markdown",
   "id": "d391dfb4",
   "metadata": {},
   "source": [
    "<h1>\n",
    "Week 1\n",
    "</h1>"
   ]
  },
  {
   "cell_type": "markdown",
   "id": "82ed9c63",
   "metadata": {},
   "source": [
    "<h2>\n",
    "Task 1: Solving ODEs\n",
    "</h2>"
   ]
  },
  {
   "cell_type": "markdown",
   "id": "a5c77847",
   "metadata": {},
   "source": [
    "<h3>\n",
    "The goal in this notebook is to apply the previously acquired skills (mainly integration) to solving Physical ODEs\n",
    "</h3>"
   ]
  },
  {
   "cell_type": "code",
   "execution_count": 1,
   "id": "4bfe3569",
   "metadata": {},
   "outputs": [],
   "source": [
    "import numpy as np\n",
    "import matplotlib.pyplot as plt \n",
    "plt.rcParams['text.usetex'] = True"
   ]
  },
  {
   "cell_type": "markdown",
   "id": "b6aaa6df",
   "metadata": {},
   "source": [
    "<p style=\"font-size:20px\">\n",
    "To study the evolution of ODEs, which strong related to integration, we must generalise on an aspect of the previous notebook. We are familiar with the idea that a system will evolve differently depending on the state of system itself. For example, a spring will push a block differently based on the current extension. We thus generalise the system to\n",
    "$$\n",
    "    \\dot{x} = f(t, x).\n",
    "$$\n",
    "We will perform maths very similar to the midpoint method in the previous notebook, so go back if you need to familiarise yourself with the details.\n",
    "</p>\n",
    "\n",
    "<p style=\"font-size:20px\">\n",
    "To the first order taylor expansion the system is as simple as before:\n",
    "$$\n",
    "    x(t+\\delta t) \\approx x(t) + \\dot{x}(t)\\delta t = x(t) + f(t, x)\\delta t.\n",
    "$$\n",
    "The second derivative however is more complicated, now involving partial derivatives with respect to the multiple variables:\n",
    "$$\n",
    "\\ddot{x} = \\dot{f}(t, x) = \\frac{\\partial f}{\\partial t} + \\frac{\\partial f}{\\partial x}\\dot{x} = \\frac{\\partial f}{\\partial t} + \\frac{\\partial f}{\\partial x}f(t, x).\n",
    "$$\n",
    "Plugigng this into the Taylor expansion gives\n",
    "$$\n",
    "    x(t+\\delta t) \\approx x(t) + \\dot{x}(t)\\delta t + \\ddot{x}(t)\\frac{\\delta t^2}{2} \\\\\n",
    "    = x(t) + f(t)\\delta t + \\bigg[\\frac{\\partial f}{\\partial t} + \\frac{\\partial f}{\\partial x}f(t, x)\\bigg]\\frac{\\delta t^2}{2}.\n",
    "$$\n",
    "Similar to before we will consider the expansion of the function $f(t, x)$ at the midpoint, which now means the midpoint both in time and state:\n",
    "$$\n",
    "    f\\big(t + \\frac{\\delta t}{2}, x + f(t, x)\\frac{\\delta t^2}{2} \\big) = \\\\\n",
    "    f(t, x) + \\bigg[ \\frac{\\partial f}{\\partial t} + \\frac{\\partial f}{\\partial x}f(t, x) \\bigg]\\frac{\\delta t^2}{2},\n",
    "$$\n",
    "which we can see matches the second order expansion above. Thus we conclude and summarise in the following way\n",
    "$$\n",
    "    k_1 \\equiv f(t, x)\\delta t,\\\\\n",
    "    k_2 \\equiv f\\big(t + \\frac{\\delta t}{2}, x + \\frac{k_1}{2} \\big)\\delta t,\\\\\n",
    "    x(t+\\delta t) = x(t) + k_2.\n",
    "$$\n",
    "This method is called midpoint Runge-Kutta (RK2), one of a family of RK methods which solve an ODE at increasing levels of precision.\n",
    "</p>\n",
    "\n",
    "\n",
    "<p style=\"font-size:20px\">\n",
    "We will state now without proof the formula for RK4 now for an entire vector $\\vec{x}$ of variables:\n",
    "$$\n",
    "    \\vec{k_1} \\equiv f(t,\\, \\vec{x}) \\delta t,\\\\\n",
    "    \\vec{k_2} \\equiv f\\bigg(t + \\frac{\\delta t}{2},\\, \\vec{x} + \\frac{\\vec{k_1}}{2}\\bigg) \\delta t,\\\\\n",
    "    \\vec{k_3} \\equiv f\\bigg(t + \\frac{\\delta t}{2},\\, \\vec{x} + \\frac{\\vec{k_2}}{2}\\bigg) \\delta t,\\\\\n",
    "    \\vec{k_4} \\equiv f(t + \\delta t,\\, \\vec{x} + \\vec{k_3}) \\delta t,\\\\\n",
    "    \\vec{x}(t+\\delta t) = \\vec{x}(t) + \\frac{1}{3}\\bigg( \\frac{\\vec{k_1}}{2} + \\vec{k_2} + \\vec{k_3} + \\frac{\\vec{k_4}}{2} \\bigg).\n",
    "$$\n",
    "</p>\n",
    "\n",
    "<p style=\"font-size:20px\">\n",
    "We provide an RK4 function coded below. Notice the code style of programming a single RK4 step, and then two other <i>helper</i> functions which apply this in two different ways. Note that these functions will only work reliably if provided numpy arrays and a gradiant function of correct signature (arguments + return type)\n",
    "</p>"
   ]
  },
  {
   "cell_type": "code",
   "execution_count": 2,
   "id": "8d93ea85",
   "metadata": {},
   "outputs": [],
   "source": [
    "# Function for taking a single RK4 step\n",
    "# The grad function must be of form grad(time (float), state (numpy array of floats)) -> (numpy array of floats)\n",
    "def rk4_step(grad, time, state, step_size):\n",
    "    # Calculate various midpoint k states\n",
    "    k1 = grad(time, state)*step_size\n",
    "    k2 = grad(time+step_size/2, state+k1/2)*step_size\n",
    "    k3 = grad(time+step_size/2, state+k2/2)*step_size\n",
    "    k4 = grad(time+step_size, state+k3)*step_size\n",
    "    # Return new time and state\n",
    "    return time+step_size, state+(k1/2 + k2 + k3 + k4/2)/3\n",
    "\n",
    "# Function for taking n steps using RK4\n",
    "def rk4_n_steps(grad, time, state, step_size, n_steps):\n",
    "    # Prepare numpy arrays for storing data\n",
    "    times = np.array([time,])\n",
    "    state_arr = np.empty(shape=(0,state.size))\n",
    "    # We will use vstack to add new time slices the state array\n",
    "    state_arr = np.vstack((state_arr, state))\n",
    "    \n",
    "    # Take n steps\n",
    "    for _ in range(n_steps):\n",
    "        new_time, new_state = rk4_step(grad, times[-1], state_arr[-1], step_size)\n",
    "        times = np.append(times, new_time)\n",
    "        state_arr = np.vstack((state_arr, new_state))\n",
    "    \n",
    "    return times, state_arr\n",
    "\n",
    "# Function for taking steps till some final time using RK4. Useful for comparing step sizes\n",
    "def rk4_step_till(grad, time, state, step_size, final_time):\n",
    "    # Prepare numpy arrays for storing data\n",
    "    times = np.array([time,])\n",
    "    state_arr = np.empty(shape=(0,state.size))\n",
    "    # We will use vstack to add new time slices the state array\n",
    "    state_arr = np.vstack((state_arr, state))\n",
    "    \n",
    "    # Take as many steps as needed\n",
    "    while times[-1] < final_time:\n",
    "        new_time, new_state = rk4_step(grad, times[-1], state_arr[-1], step_size)\n",
    "        times = np.append(times, new_time)\n",
    "        state_arr = np.vstack((state_arr, new_state))\n",
    "    \n",
    "    return times, state_arr"
   ]
  },
  {
   "cell_type": "markdown",
   "id": "97780c6e",
   "metadata": {},
   "source": [
    "<p style=\"font-size:20px;\">\n",
    "We have one final trick to learn before solving some ODEs. Physical systems typically follow second order differential equations. Look no further than Newton's second law\n",
    "$$\n",
    "    F = ma \\equiv m \\frac{{\\rm d}^2x}{{\\rm d}t^2} \\equiv m \\ddot{x}\n",
    "$$\n",
    "<br><br>\n",
    "How do we solve this using the techniques learned previously? The trick is to think of position and velocity as <i>independent</i> variables:\n",
    "$$\n",
    "    \\dot{x} = v, \\\\\n",
    "    \\dot{v} = F/m.\n",
    "$$\n",
    "<br><br>\n",
    "This can then be solved as a coupled system of equations as introduced above.\n",
    "</p>"
   ]
  },
  {
   "cell_type": "markdown",
   "id": "2c96273f",
   "metadata": {},
   "source": [
    "<p style=\"font-size:20px;color:Blue;\">\n",
    "Let's solve the famous mass on spring example. The ODE we want to solve is\n",
    "<br><br>\n",
    "    $$\n",
    "    F = -kx\n",
    "    $$\n",
    "<br><br>\n",
    "$\\cdot$ Convert this into two equations as explained above.\n",
    "<br><br>\n",
    "$\\cdot$ Fill in the body of the grad function below, and run the cells\n",
    "<br>\n",
    "(the provided code assumes an array of form $[x, v]$)\n",
    "</p>"
   ]
  },
  {
   "cell_type": "code",
   "execution_count": 3,
   "id": "09147d14",
   "metadata": {},
   "outputs": [],
   "source": [
    "m, k = 3, 5\n",
    "\n",
    "def grad(time, state):\n",
    "    # YOUR CODE HERE\n",
    "\n",
    "# Initial state is [x, y] = [1, 0] at time = 0\n",
    "t_0 = 0\n",
    "state_0 = np.array([5, 0])\n",
    "\n",
    "times, states = rk4_n_steps(grad, t_0, state_0, 0.01, 1_000)"
   ]
  },
  {
   "cell_type": "code",
   "execution_count": 4,
   "id": "c217fda6",
   "metadata": {},
   "outputs": [
    {
     "data": {
      "image/png": "[encoded data removed]",
      "text/plain": [
       "<Figure size 1152x504 with 2 Axes>"
      ]
     },
     "metadata": {
      "needs_background": "light"
     },
     "output_type": "display_data"
    },
    {
     "data": {
      "text/plain": [
       "<Figure size 432x288 with 0 Axes>"
      ]
     },
     "metadata": {},
     "output_type": "display_data"
    }
   ],
   "source": [
    "# Prepare two side by side plots\n",
    "fig, [ax1, ax2] = plt.subplots(nrows=1, ncols=2, figsize=(16,7))\n",
    "\n",
    "# Axis 1: Show the different state variables against time\n",
    "ax1.set(xlabel=\"t\")\n",
    "ax1.plot(times, states[:,0], label=\"x\")\n",
    "ax1.plot(times, states[:,1], label=\"v\")\n",
    "ax1.legend()\n",
    "\n",
    "# Axis 2: Show the x,y plane\n",
    "ax2.set(xlabel=\"x\", ylabel=\"v\")\n",
    "ax2.plot(states[:,0], states[:,1])\n",
    "\n",
    "# Show and close the plot\n",
    "plt.show()\n",
    "plt.clf()"
   ]
  },
  {
   "cell_type": "markdown",
   "id": "16ed09c9",
   "metadata": {},
   "source": [
    "<hr style=\"height:1px;width:75%\">"
   ]
  },
  {
   "cell_type": "markdown",
   "id": "5fcc5fcc",
   "metadata": {},
   "source": [
    "<p style=\"font-size:20px;color:Blue;\">\n",
    "Add a cubic perturbation to the spring force\n",
    "<br><br>\n",
    "    $$\n",
    "    F = -kx - kx^3\n",
    "    $$\n",
    "<br><br>\n",
    "and solve the system again.\n",
    "<br><br>\n",
    "$\\cdot$ What differences do you see? Can you explain them? For which range of values are the results the same?\n",
    "</p>"
   ]
  },
  {
   "cell_type": "markdown",
   "id": "80796de0",
   "metadata": {},
   "source": [
    "<hr style=\"height:1px;width:75%\">"
   ]
  },
  {
   "cell_type": "markdown",
   "id": "8ff603b9",
   "metadata": {},
   "source": [
    "<p style=\"font-size:20px;color:Blue;\">\n",
    "Expand the system and study two masses connected by springs to eachother and the walls. The system will follow\n",
    "<br><br>\n",
    "    $$\n",
    "    m\\ddot{x}_1 = - k_1x_1 + k2(x_2 - x_1),\\\\\n",
    "    m\\ddot{x}_2 = k_2(x_1 - x_2) - k_3x_2.\n",
    "    $$\n",
    "<br><br>\n",
    "where all symbols have conventional meanings.\n",
    "<br><br>\n",
    "$\\cdot$ Experiment with symmetric initial conditions and asymmetric initial conditions. Consider this in terms of normal modes\n",
    "</p>"
   ]
  },
  {
   "cell_type": "markdown",
   "id": "3b52e5c9",
   "metadata": {},
   "source": [
    "<hr style=\"height:1px;width:75%\">"
   ]
  },
  {
   "cell_type": "markdown",
   "id": "234dd292",
   "metadata": {},
   "source": [
    "<p style=\"font-size:20px;color:Blue;\">\n",
    "$\\cdot$ As a bonus challenge, try solving the full forced damped oscillator and compare to analytic results.\n",
    "</p>"
   ]
  },
  {
   "cell_type": "code",
   "execution_count": null,
   "id": "e516e363",
   "metadata": {},
   "outputs": [],
   "source": []
  }
 ],
 "metadata": {
  "kernelspec": {
   "display_name": "Python 3 (ipykernel)",
   "language": "python",
   "name": "python3"
  },
  "language_info": {
   "codemirror_mode": {
    "name": "ipython",
    "version": 3
   },
   "file_extension": ".py",
   "mimetype": "text/x-python",
   "name": "python",
   "nbconvert_exporter": "python",
   "pygments_lexer": "ipython3",
   "version": "3.8.10"
  }
 },
 "nbformat": 4,
 "nbformat_minor": 5
}
