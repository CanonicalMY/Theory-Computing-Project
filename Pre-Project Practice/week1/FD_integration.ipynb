{
 "cells": [
  {
   "cell_type": "markdown",
   "metadata": {},
   "source": [
    "<h1>\n",
    "Week 1\n",
    "</h1>"
   ]
  },
  {
   "cell_type": "markdown",
   "metadata": {},
   "source": [
    "<h2>\n",
    "Task 1: Estimating Integrals\n",
    "</h2>"
   ]
  },
  {
   "cell_type": "markdown",
   "metadata": {},
   "source": [
    "<h3>\n",
    "The goal in this notebook is to get comfortable with using finite difference methods to perform integration\n",
    "</h3>"
   ]
  },
  {
   "cell_type": "code",
   "execution_count": 1,
   "metadata": {},
   "outputs": [],
   "source": [
    "import numpy as np\n",
    "import matplotlib.pyplot as plt \n",
    "plt.rcParams['text.usetex'] = True"
   ]
  },
  {
   "cell_type": "markdown",
   "metadata": {},
   "source": [
    "<p style=\"font-size:20px;\">\n",
    "This notebook will reverse the logic from the previous one. Here we will have a function which we wish to integrate. Another way of thinking this is that we know the derivative, and want to find the function itself.\n",
    "</p>\n",
    "\n",
    "<p style=\"font-size:20px;\">\n",
    "While we may think of areas under curves when hearing integration, keep in mind that we will be studying dynamical physical systems. Recall that the position of a particle is the area under its velocity curbe (provided some starting position), and similarly the velocity is achieved from the area under the acceleration curve.\n",
    "</p>\n",
    "\n",
    "<p style=\"font-size:20px;\">\n",
    "In essence most of physics is wrapped up in this -- we want to understand how a system evolves provided a starting situation, some boundary conditions, and a (usually second order) differential equation.\n",
    "</p>"
   ]
  },
  {
   "cell_type": "markdown",
   "metadata": {},
   "source": [
    "<p style=\"font-size:20px;\">\n",
    "One possible approximate finite difference formula is the following\n",
    "$$\n",
    "    \\frac{{\\rm d}f}{{\\rm d}x} = f'(x) \\approx \\frac{f(x+\\delta x) - f(x)}{\\delta x}.\n",
    "    \\implies\n",
    "    f(x+\\delta x) = f(x) + f'(x)\\delta x.\n",
    "$$\n",
    "e.g. where will your particle be in a small time step? Where is it now added with some small shift. That shift is the current velocity times the small time difference. We are assumuing however the velocity stays constant over that small time interval.\n",
    "</p>"
   ]
  },
  {
   "cell_type": "code",
   "execution_count": 2,
   "metadata": {},
   "outputs": [],
   "source": [
    "def func(x):\n",
    "    return np.cos(x)\n",
    "\n",
    "def known_integral(x):\n",
    "    return np.sin(x)"
   ]
  },
  {
   "cell_type": "code",
   "execution_count": 3,
   "metadata": {},
   "outputs": [
    {
     "data": {
      "image/png": "[encoded data removed]",
      "text/plain": [
       "<Figure size 432x288 with 1 Axes>"
      ]
     },
     "metadata": {
      "needs_background": "light"
     },
     "output_type": "display_data"
    },
    {
     "data": {
      "text/plain": [
       "<Figure size 432x288 with 0 Axes>"
      ]
     },
     "metadata": {},
     "output_type": "display_data"
    }
   ],
   "source": [
    "dx = 0.5\n",
    "\n",
    "x_vals, integral_vals = [0,], [0,]\n",
    "while (x_vals[-1] < 25):\n",
    "    new_x = x_vals[-1] + dx\n",
    "    integral = integral_vals[-1] + func(x_vals[-1])*dx\n",
    "    \n",
    "    x_vals.append(new_x)\n",
    "    integral_vals.append(integral)\n",
    "\n",
    "# Make a dense version of the integrated x values for a smooth plot\n",
    "x_dense = np.linspace(np.min(x_vals), np.max(x_vals), 250)\n",
    "    \n",
    "# Plot the data\n",
    "fig, ax = plt.subplots()\n",
    "ax.set(xlabel=\"x\", ylabel=\"f(x)\")\n",
    "\n",
    "ax.plot(x_dense, known_integral(x_dense), color=\"black\", label=\"Analytic integral\")\n",
    "ax.plot(x_vals, integral_vals, color=\"blue\", linestyle=\"--\", label=\"Approximate integral\")\n",
    "\n",
    "plt.show()\n",
    "plt.clf()"
   ]
  },
  {
   "cell_type": "markdown",
   "metadata": {},
   "source": [
    "<p style=\"font-size:20px;\">\n",
    "It turns out we can do a much better job without any more function evaluations. Let's repeat the above taylor expansion to second order:\n",
    "    $$\n",
    "    f(x+\\delta x) \\approx f(x) + f'(x)\\delta x + f''(x)\\frac{\\delta x^2}{2}.\n",
    "    $$\n",
    "A problem arises here that we (in principle) don't know how to take a derivative of the function we're integrating. However, this is calculus, and we can assume that the function we're integrating is also smooth:\n",
    "    $$\n",
    "    f''(x) \\equiv g'(x) \\approx \\frac{g(x+\\delta x) - g(x)}{\\delta x} = \\frac{f'(x+\\delta x) - f'(x)}{\\delta x}.\n",
    "    $$\n",
    "If we add this back into the previous expression:\n",
    "    $$\n",
    "    f(x+\\delta x) \\approx f(x) + f'(x)\\delta x + \\frac{f'(x+\\delta x) - f'(x)}{\\delta x}\\frac{\\delta x^2}{2} \\\\\n",
    "                = f(x) + \\big(f'(x+\\delta x) + f'(x)\\big)\\frac{\\delta x}{2}.\n",
    "    $$\n",
    "This is known as the trapezoidal rule.\n",
    "</p>"
   ]
  },
  {
   "cell_type": "markdown",
   "metadata": {},
   "source": [
    "<p style=\"font-size:20px;color:Blue;\">\n",
    "Use this new definition to repeat the above tasks.\n",
    "</p>"
   ]
  },
  {
   "cell_type": "markdown",
   "metadata": {},
   "source": [
    "<p style=\"font-size:20px;\">\n",
    "We can still do slightly better. See how in the final expression we have $(f'(x+\\delta x) + f'(x))/2$. We can interpret that as the average gradient over the step. However, if the function is smooth we expect that to be the gradient at the midpoint. This intuition is confirmed by noticing.\n",
    "    $$\n",
    "    f'\\big(x+\\frac{\\delta x}{2}\\big) \\equiv g\\big(x+\\frac{\\delta x}{2}\\big) \\approx g(x) + g'(x)\\frac{\\delta x}{2} = f'(x) + f''(x)\\frac{\\delta x}{2}.\n",
    "    $$\n",
    "Using this we finally write\n",
    "    $$\n",
    "    f(x+\\delta x) \\approx f(x) + f'\\big(x+\\frac{\\delta x}{2}\\big)\\delta x\n",
    "    $$\n",
    "</p>"
   ]
  },
  {
   "cell_type": "markdown",
   "metadata": {},
   "source": [
    "<p style=\"font-size:20px;color:Blue;\">\n",
    "Use this new definition to repeat the above tasks.\n",
    "</p>"
   ]
  }
 ],
 "metadata": {
  "kernelspec": {
   "display_name": "Python 3",
   "language": "python",
   "name": "python3"
  },
  "language_info": {
   "codemirror_mode": {
    "name": "ipython",
    "version": 3
   },
   "file_extension": ".py",
   "mimetype": "text/x-python",
   "name": "python",
   "nbconvert_exporter": "python",
   "pygments_lexer": "ipython3",
   "version": "3.8.6"
  }
 },
 "nbformat": 4,
 "nbformat_minor": 5
}
